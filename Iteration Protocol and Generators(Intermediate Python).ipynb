{
 "cells": [
  {
   "cell_type": "markdown",
   "metadata": {},
   "source": [
    "### 1. Iteration protocol in Python\n",
    "\n",
    "- Iteration : repition of a process\n",
    "- Iterable: a Python object which supports iteraton\n",
    "- Iterator: a python object to perform iteration over na iterable.  \n"
   ]
  },
  {
   "cell_type": "markdown",
   "metadata": {},
   "source": [
    "- The iteration protocol is a fancy term meaning \"how iterables actually work in Python\".\n",
    "\n",
    "1. For a class object to be an iterable:\n",
    "    - can be passed to the iter function to get an iterator for them\n",
    "2. For any iterator:\n",
    "    - can be passed to the next function which gives their next item or raises Stopiteration\n",
    "    - Return themselves when passed to the iter function."
   ]
  },
  {
   "cell_type": "code",
   "execution_count": null,
   "metadata": {},
   "outputs": [],
   "source": [
    "class yrange:\n",
    "    # n is the number upto which I want the range \n",
    "    def __init__(self,n):\n",
    "        self.i = 0\n",
    "        self.n = n \n",
    "        \n",
    "        # this methhod makes our class iterable \n",
    "    def __iter__(self):\n",
    "        return self\n",
    "    \n",
    "    # this is a method should be implemented by the ITERATOR\n",
    "    \n",
    "    def __next__(self):"
   ]
  }
 ],
 "metadata": {
  "kernelspec": {
   "display_name": "Python 3",
   "language": "python",
   "name": "python3"
  },
  "language_info": {
   "codemirror_mode": {
    "name": "ipython",
    "version": 3
   },
   "file_extension": ".py",
   "mimetype": "text/x-python",
   "name": "python",
   "nbconvert_exporter": "python",
   "pygments_lexer": "ipython3",
   "version": "3.8.5"
  }
 },
 "nbformat": 4,
 "nbformat_minor": 4
}
