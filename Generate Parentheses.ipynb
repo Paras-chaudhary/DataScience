{
 "cells": [
  {
   "cell_type": "markdown",
   "metadata": {},
   "source": [
    "### Generate Parentheses"
   ]
  },
  {
   "cell_type": "code",
   "execution_count": 13,
   "metadata": {},
   "outputs": [],
   "source": [
    "#generate only for the balanced case\n",
    "#no of closing brackets = opening brackets \n",
    "#count of opening B , closing B\n",
    "#in begning opening and closed bracket are zero \n",
    "\n",
    "\n",
    "\n",
    "def genParanthesis(openB,closeB,n,s=[]):\n",
    "    #Base Case\n",
    "    if(closeB==n):\n",
    "        print(s)\n",
    "        return\n",
    "    \n",
    "    else:\n",
    "        if(openB>closeB):\n",
    "            #you can definitely put the closing bracket \n",
    "            s.append(\")\")\n",
    "            \n",
    "            genParanthesis(openB,closeB+1,n,s )\n",
    "            s.pop()\n",
    "            \n",
    "        if(openB<n):\n",
    "            s.append('(')\n",
    "            genParanthesis(openB+1,closeB,n,s)\n",
    "            s.pop()\n",
    "            \n",
    "    return "
   ]
  },
  {
   "cell_type": "code",
   "execution_count": 12,
   "metadata": {},
   "outputs": [
    {
     "name": "stdout",
     "output_type": "stream",
     "text": [
      "['(', ')', '(', ')', '(', ')']\n",
      "['(', ')', '(', '(', ')', ')']\n",
      "['(', '(', ')', ')', '(', ')']\n",
      "['(', '(', ')', '(', ')', ')']\n",
      "['(', '(', '(', ')', ')', ')']\n"
     ]
    }
   ],
   "source": [
    "genParanthesis(0,0,3)"
   ]
  },
  {
   "cell_type": "code",
   "execution_count": null,
   "metadata": {},
   "outputs": [],
   "source": []
  }
 ],
 "metadata": {
  "kernelspec": {
   "display_name": "Python 3",
   "language": "python",
   "name": "python3"
  },
  "language_info": {
   "codemirror_mode": {
    "name": "ipython",
    "version": 3
   },
   "file_extension": ".py",
   "mimetype": "text/x-python",
   "name": "python",
   "nbconvert_exporter": "python",
   "pygments_lexer": "ipython3",
   "version": "3.8.5"
  }
 },
 "nbformat": 4,
 "nbformat_minor": 4
}
