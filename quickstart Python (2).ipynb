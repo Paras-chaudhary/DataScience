{
 "cells": [
  {
   "cell_type": "code",
   "execution_count": 1,
   "metadata": {},
   "outputs": [],
   "source": [
    "# MACHINE LEARNING "
   ]
  },
  {
   "cell_type": "code",
   "execution_count": 2,
   "metadata": {},
   "outputs": [],
   "source": [
    "#Beigners Project :- POKEMON CLASSIFICATION"
   ]
  },
  {
   "cell_type": "code",
   "execution_count": 3,
   "metadata": {},
   "outputs": [],
   "source": [
    "#LEARNING GOALS \n",
    "#Basics of Python\n",
    "#Numpy\n",
    "#Pandas\n",
    "#OPENCV"
   ]
  },
  {
   "cell_type": "markdown",
   "metadata": {},
   "source": [
    "# Write a program which inputs a list of numbers(POKEMON) and prints the corresponding Pokemon Name\n",
    "LEarning Goals \n",
    "-  1 - Bulbasaur \n",
    "-  2 - Pikachu \n",
    "-  3 - charmender\n",
    "-  X - Invalid Input "
   ]
  },
  {
   "cell_type": "code",
   "execution_count": 4,
   "metadata": {},
   "outputs": [
    {
     "name": "stdout",
     "output_type": "stream",
     "text": [
      "Hello World\n"
     ]
    }
   ],
   "source": [
    "#input in python \n",
    "\n",
    "a = \"Hello World\"\n",
    "print(a)"
   ]
  },
  {
   "cell_type": "code",
   "execution_count": 5,
   "metadata": {},
   "outputs": [
    {
     "name": "stdout",
     "output_type": "stream",
     "text": [
      "['1', '2', '3', '4', '5']\n"
     ]
    }
   ],
   "source": [
    "numbers_list_chars = \" 1 2 3 4 5\".split()\n",
    "print(numbers_list_chars)"
   ]
  },
  {
   "cell_type": "code",
   "execution_count": 6,
   "metadata": {},
   "outputs": [
    {
     "name": "stdout",
     "output_type": "stream",
     "text": [
      "[1, 2, 3, 4, 5]\n"
     ]
    }
   ],
   "source": [
    "numbers_list_int = [int(x)for x in numbers_list_chars]\n",
    "print(numbers_list_int)"
   ]
  },
  {
   "cell_type": "code",
   "execution_count": 7,
   "metadata": {},
   "outputs": [
    {
     "name": "stdout",
     "output_type": "stream",
     "text": [
      "BALBASAUR\n",
      "PIKACHU\n",
      "CHARMANDER\n",
      "INVALID\n",
      "INVALID\n"
     ]
    }
   ],
   "source": [
    "for i in numbers_list_int:\n",
    "    if i == 1:\n",
    "        print(\"BALBASAUR\")\n",
    "    elif i == 2:\n",
    "        print(\"PIKACHU\")\n",
    "    elif i == 3:\n",
    "        print(\"CHARMANDER\")\n",
    "        \n",
    "    else:\n",
    "        print(\"INVALID\")\n",
    "     "
   ]
  },
  {
   "cell_type": "code",
   "execution_count": 8,
   "metadata": {},
   "outputs": [],
   "source": [
    "#DIctionary in Python \n",
    "#they are kind of Hashmaps \n",
    "pokemon_map = {\n",
    "    1 : \"BALBASAUR\",\n",
    "    2 : \"PIKACHU\",\n",
    "    3 : \"CHARMENTER\"\n",
    "}"
   ]
  },
  {
   "cell_type": "code",
   "execution_count": 9,
   "metadata": {},
   "outputs": [
    {
     "data": {
      "text/plain": [
       "'PIKACHU'"
      ]
     },
     "execution_count": 9,
     "metadata": {},
     "output_type": "execute_result"
    }
   ],
   "source": [
    "pokemon_map[2]"
   ]
  },
  {
   "cell_type": "code",
   "execution_count": 10,
   "metadata": {},
   "outputs": [
    {
     "name": "stdout",
     "output_type": "stream",
     "text": [
      "POKEMON NOT FOUND\n"
     ]
    }
   ],
   "source": [
    "if pokemon_map.get(5) is None:\n",
    "    print(\"POKEMON NOT FOUND\")\n",
    "\n",
    "else:\n",
    "        primt(pokemon_map[5])\n",
    "    "
   ]
  },
  {
   "cell_type": "code",
   "execution_count": 11,
   "metadata": {},
   "outputs": [
    {
     "name": "stdout",
     "output_type": "stream",
     "text": [
      "BALBASAUR\n",
      "PIKACHU\n",
      "CHARMENTER\n",
      "POKEMON NOT FOUND\n",
      "POKEMON NOT FOUND\n"
     ]
    }
   ],
   "source": [
    "for i in numbers_list_int:\n",
    "    if pokemon_map.get(i) is None:\n",
    "        print(\"POKEMON NOT FOUND\")\n",
    "    else:\n",
    "        print(pokemon_map[i])"
   ]
  },
  {
   "cell_type": "code",
   "execution_count": 13,
   "metadata": {},
   "outputs": [
    {
     "data": {
      "text/plain": [
       "('balbasasur', 200)"
      ]
     },
     "execution_count": 13,
     "metadata": {},
     "output_type": "execute_result"
    }
   ],
   "source": [
    "#Create list \n",
    "#Anything which is written in round brackets is knows as tuples \n",
    "#Tuples are  only readonly \n",
    "pokemons = [(\"balbasasur\",200),(\"Pikachu\",250),(\"charmender\",900,700)]\n",
    "pokemons[0]"
   ]
  },
  {
   "cell_type": "code",
   "execution_count": 15,
   "metadata": {},
   "outputs": [],
   "source": [
    "t = (\"A\",\"B\",\"C\") # Read only List "
   ]
  },
  {
   "cell_type": "code",
   "execution_count": 16,
   "metadata": {},
   "outputs": [],
   "source": [
    "def printpokemons(numbers):\n",
    "    #Dictionary \n",
    "    pokemon_map = {\n",
    "    1 : \"BALBASAUR\",\n",
    "    2 : \"PIKACHU\",\n",
    "    3 : \"CHARMENTER\"\n",
    "}\n",
    "    for i in numbers:\n",
    "        if pokemon_map.get(i) is None:\n",
    "            print(\"Pokemon Not Found!\")\n",
    "        else:\n",
    "            print(pokemon_map[i])"
   ]
  },
  {
   "cell_type": "code",
   "execution_count": 20,
   "metadata": {},
   "outputs": [
    {
     "name": "stdout",
     "output_type": "stream",
     "text": [
      "1 1 2 3 5 6\n",
      "BALBASAUR\n",
      "BALBASAUR\n",
      "PIKACHU\n",
      "CHARMENTER\n",
      "Pokemon Not Found!\n",
      "Pokemon Not Found!\n"
     ]
    }
   ],
   "source": [
    "numbers = [int(x) for x in input().split()]\n",
    "printpokemons(numbers)"
   ]
  },
  {
   "cell_type": "code",
   "execution_count": null,
   "metadata": {},
   "outputs": [],
   "source": []
  }
 ],
 "metadata": {
  "kernelspec": {
   "display_name": "Python 3",
   "language": "python",
   "name": "python3"
  },
  "language_info": {
   "codemirror_mode": {
    "name": "ipython",
    "version": 3
   },
   "file_extension": ".py",
   "mimetype": "text/x-python",
   "name": "python",
   "nbconvert_exporter": "python",
   "pygments_lexer": "ipython3",
   "version": "3.8.5"
  }
 },
 "nbformat": 4,
 "nbformat_minor": 4
}
