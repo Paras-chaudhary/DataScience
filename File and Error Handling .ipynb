{
 "cells": [
  {
   "cell_type": "markdown",
   "metadata": {},
   "source": [
    "### File Access Modes\n",
    "- Access modes govern the type of operations possible in opened file.It refers to how the file will be used once its opened. These modes also define the location of the File Handle in the file.File handle is like a cursor,which defines from where the data has to be read or written in the file.There are 6 access modes in python.\n",
    "\n",
    "- Read onlu('r'): Open text file for reading.The handle is positioned at the beginning of the file.if the file does not exists,raises I/O error.This is also the default mode in which the file is opened.\n",
    "- Read and write('r+'): open the file for writing.for existing file, the data is truncated and over-written.The handle is positioned at the begning of the file.Creates the file if the file does not exists.\n",
    "- Write only('w): Open the file for writing.for existing file, the data is truncated and over-written.The handle is positioned at the beginning of the file.\n",
    "\n",
    "- Append Only('a'): Open the file for writing.The file is created if it does not exist.The handel is positioned at the end of the file.The data being written will be inserted at the end, after the existing data.\n",
    "\n",
    "- Append and Read('a+'): Open the file for reading and writing.The file is created if it does not exist.The handle is positioned at the end of the file.The data being written will be inserted at the end, after the existing data"
   ]
  },
  {
   "cell_type": "markdown",
   "metadata": {},
   "source": [
    "#### 1. Text files"
   ]
  },
  {
   "cell_type": "code",
   "execution_count": 1,
   "metadata": {},
   "outputs": [],
   "source": [
    "#Opening a file"
   ]
  },
  {
   "cell_type": "code",
   "execution_count": 7,
   "metadata": {},
   "outputs": [],
   "source": [
    "file = open(\"a.txt\",\"r\")"
   ]
  },
  {
   "cell_type": "code",
   "execution_count": 8,
   "metadata": {},
   "outputs": [
    {
     "data": {
      "text/plain": [
       "'grgw erhhthdd yfj yitur\\n\\nt.h\\ntht\\n.hth.t\\n\\nrt\\njfyhjfjfhjyj\\nyt\\n\\ngjgjyjyjku,   b hr5i8o poo/ffdf sdhdfgc'"
      ]
     },
     "execution_count": 8,
     "metadata": {},
     "output_type": "execute_result"
    }
   ],
   "source": [
    "file.read(100)"
   ]
  },
  {
   "cell_type": "code",
   "execution_count": 9,
   "metadata": {},
   "outputs": [],
   "source": [
    "#closing a file"
   ]
  },
  {
   "cell_type": "code",
   "execution_count": 10,
   "metadata": {},
   "outputs": [],
   "source": [
    "file.close()"
   ]
  },
  {
   "cell_type": "code",
   "execution_count": 11,
   "metadata": {},
   "outputs": [],
   "source": [
    "#writing to a file\n",
    "# write \n",
    "# writelines"
   ]
  },
  {
   "cell_type": "code",
   "execution_count": 12,
   "metadata": {},
   "outputs": [],
   "source": [
    "file = open(\"a.txt\",\"w\")"
   ]
  },
  {
   "cell_type": "code",
   "execution_count": 13,
   "metadata": {},
   "outputs": [
    {
     "data": {
      "text/plain": [
       "15"
      ]
     },
     "execution_count": 13,
     "metadata": {},
     "output_type": "execute_result"
    }
   ],
   "source": [
    "file.write(\"heyaaa Parassss\")"
   ]
  },
  {
   "cell_type": "code",
   "execution_count": 14,
   "metadata": {},
   "outputs": [],
   "source": [
    "file.close()"
   ]
  },
  {
   "cell_type": "code",
   "execution_count": 15,
   "metadata": {},
   "outputs": [],
   "source": [
    "#Reading from a file\n",
    "# read\n",
    "# readline\n",
    "# readlines"
   ]
  },
  {
   "cell_type": "code",
   "execution_count": 16,
   "metadata": {},
   "outputs": [],
   "source": [
    "file = open(\"a.txt\",\"r\")"
   ]
  },
  {
   "cell_type": "code",
   "execution_count": 19,
   "metadata": {},
   "outputs": [
    {
     "data": {
      "text/plain": [
       "''"
      ]
     },
     "execution_count": 19,
     "metadata": {},
     "output_type": "execute_result"
    }
   ],
   "source": [
    "file.readline()"
   ]
  },
  {
   "cell_type": "code",
   "execution_count": 20,
   "metadata": {},
   "outputs": [],
   "source": [
    "file.close()"
   ]
  },
  {
   "cell_type": "code",
   "execution_count": 21,
   "metadata": {},
   "outputs": [],
   "source": [
    "#Moving the cursor\n",
    "#seek(n): takes the file handle to the nth byte from the beginning"
   ]
  },
  {
   "cell_type": "code",
   "execution_count": 22,
   "metadata": {},
   "outputs": [],
   "source": [
    "file = open(\"a.txt\",\"r\")"
   ]
  },
  {
   "cell_type": "markdown",
   "metadata": {},
   "source": [
    "##### "
   ]
  },
  {
   "cell_type": "code",
   "execution_count": 24,
   "metadata": {},
   "outputs": [
    {
     "data": {
      "text/plain": [
       "'a Par'"
      ]
     },
     "execution_count": 24,
     "metadata": {},
     "output_type": "execute_result"
    }
   ],
   "source": [
    "file.read(5)\n"
   ]
  },
  {
   "cell_type": "code",
   "execution_count": 27,
   "metadata": {},
   "outputs": [
    {
     "data": {
      "text/plain": [
       "5"
      ]
     },
     "execution_count": 27,
     "metadata": {},
     "output_type": "execute_result"
    }
   ],
   "source": [
    "file.seek(5)"
   ]
  },
  {
   "cell_type": "code",
   "execution_count": 26,
   "metadata": {},
   "outputs": [
    {
     "data": {
      "text/plain": [
       "''"
      ]
     },
     "execution_count": 26,
     "metadata": {},
     "output_type": "execute_result"
    }
   ],
   "source": [
    "file.read()"
   ]
  },
  {
   "cell_type": "markdown",
   "metadata": {},
   "source": [
    "#### smarter way of opening files....\n",
    "- with the \" with statement\", you get better syntax and exceptions handling.\n",
    "- \"The with statement simplifies exception handling by encapsulating common preparation and  cleanup tasks\"\n",
    "- In addition, it will automatically close the file.The with statement provides a way for ensuring that a clean-up is always used."
   ]
  },
  {
   "cell_type": "code",
   "execution_count": 28,
   "metadata": {},
   "outputs": [
    {
     "name": "stdout",
     "output_type": "stream",
     "text": [
      "heyaaa Parassss\n",
      "a Parassss\n"
     ]
    }
   ],
   "source": [
    "with open(\"a.txt\",\"r\") as file:\n",
    "    print(file.read())\n",
    "    file.seek(5)\n",
    "    print(file.read())"
   ]
  },
  {
   "cell_type": "markdown",
   "metadata": {},
   "source": [
    "#### JSON FILES\n",
    "- Javascript Object Notation abbreviated as JSON is a light- weight data interchange format.It Encode Python objects as JSON strings , and decode JSON strings into Python objects\n",
    "\n",
    "- json.dum(obj,fileObj) : Serializes obj as a JSON formatted strean to fileObj.\n",
    "- json.dumps(obj) : Serializes obj as JSON formatted string.\n",
    "- json.load(JSONfile) : De-serializes JSONfile to Python object.\n",
    "- json.loads(JSONfile): De-serializes JSONfile(type:string) to a Python object."
   ]
  },
  {
   "cell_type": "code",
   "execution_count": 7,
   "metadata": {},
   "outputs": [],
   "source": [
    "import json"
   ]
  },
  {
   "cell_type": "code",
   "execution_count": 10,
   "metadata": {},
   "outputs": [
    {
     "name": "stdout",
     "output_type": "stream",
     "text": [
      "{'view': {'id': 'qjpr-gyut', 'name': 'Election Maps - Statewide', 'averageRating': 0, 'createdAt': 1425070498, 'displayType': 'table', 'downloadCount': 1136, 'hideFromCatalog': False, 'hideFromDataJson': False, 'indexUpdatedAt': 1529451695, 'newBackend': True, 'numberOfComments': 0, 'oid': 29065788, 'provenance': 'official', 'publicationAppendEnabled': False, 'publicationDate': 1529451431, 'publicationGroup': 2336445, 'publicationStage': 'published', 'rowsUpdatedAt': 1529451309, 'rowsUpdatedBy': 'a62c-hw4p', 'tableId': 15283714, 'totalTimesRated': 0, 'viewCount': 47054, 'viewLastModified': 1536183707, 'viewType': 'tabular', 'approvals': [{'reviewedAt': 1529451431, 'reviewedAutomatically': True, 'state': 'approved', 'submissionId': 807772, 'submissionObject': 'public_audience_request', 'submissionOutcome': 'change_audience', 'submittedAt': 1529451431, 'workflowId': 2182, 'submissionDetails': {'permissionType': 'READ'}, 'submissionOutcomeApplication': {'failureCount': 0, 'status': 'success'}, 'submitter': {'id': 'a7h7-u2zq', 'displayName': 'Office of Elections'}}], 'columns': [{'id': -1, 'name': 'sid', 'dataTypeName': 'meta_data', 'fieldName': ':sid', 'position': 0, 'renderTypeName': 'meta_data', 'format': {}, 'flags': ['hidden']}, {'id': -1, 'name': 'id', 'dataTypeName': 'meta_data', 'fieldName': ':id', 'position': 0, 'renderTypeName': 'meta_data', 'format': {}, 'flags': ['hidden']}, {'id': -1, 'name': 'position', 'dataTypeName': 'meta_data', 'fieldName': ':position', 'position': 0, 'renderTypeName': 'meta_data', 'format': {}, 'flags': ['hidden']}, {'id': -1, 'name': 'created_at', 'dataTypeName': 'meta_data', 'fieldName': ':created_at', 'position': 0, 'renderTypeName': 'meta_data', 'format': {}, 'flags': ['hidden']}, {'id': -1, 'name': 'created_meta', 'dataTypeName': 'meta_data', 'fieldName': ':created_meta', 'position': 0, 'renderTypeName': 'meta_data', 'format': {}, 'flags': ['hidden']}, {'id': -1, 'name': 'updated_at', 'dataTypeName': 'meta_data', 'fieldName': ':updated_at', 'position': 0, 'renderTypeName': 'meta_data', 'format': {}, 'flags': ['hidden']}, {'id': -1, 'name': 'updated_meta', 'dataTypeName': 'meta_data', 'fieldName': ':updated_meta', 'position': 0, 'renderTypeName': 'meta_data', 'format': {}, 'flags': ['hidden']}, {'id': -1, 'name': 'meta', 'dataTypeName': 'meta_data', 'fieldName': ':meta', 'position': 0, 'renderTypeName': 'meta_data', 'format': {}, 'flags': ['hidden']}, {'id': 364001233, 'name': 'Map Name', 'dataTypeName': 'url', 'description': 'Map Name', 'fieldName': 'map_name', 'position': 1, 'renderTypeName': 'url', 'tableColumnId': 64948134, 'width': 100, 'cachedContents': {'largest': {'description': 'Oahu Map: Island view', 'url': 'http://files.hawaii.gov/elections/files/maps/electionmaps/ISLAND_OF_OAHU.pdf'}, 'non_null': 42, 'null': 0, 'top': [{'item': {'description': 'Oahu #13: Kailua - Waimanalo', 'url': 'http://files.hawaii.gov/elections/files/maps/electionmaps/OAHU13.pdf'}, 'count': 20}], 'smallest': {'description': 'Hawaii #10: Waimea', 'url': 'http://files.hawaii.gov/elections/files/maps/electionmaps/HAWAII10.pdf'}}, 'format': {'align': 'left'}, 'subColumnTypes': ['url', 'description']}, {'id': 364001234, 'name': 'DESCRIPTION', 'dataTypeName': 'text', 'description': '', 'fieldName': 'description', 'position': 2, 'renderTypeName': 'text', 'tableColumnId': 25882575, 'width': 232, 'cachedContents': {'largest': 'Waipio - Kohala Mountain', 'non_null': 42, 'null': 0, 'top': [{'item': 'Kailua - Waimanalo', 'count': 20}], 'smallest': 'Aiea - Waipahu'}, 'format': {'align': 'left'}}], 'disabledFeatureFlags': ['allow_comments'], 'grants': [{'inherited': False, 'type': 'viewer', 'flags': ['public']}], 'metadata': {'jsonQuery': {'order': [{'columnFieldName': 'county', 'ascending': True}]}, 'custom_fields': {'Data Reference': {'Reference for Technical Information': '', 'Frequency': '', 'Date Updated': '', 'Date Released': '', 'Period of Coverage': '', 'Unit of Analysis': '', 'Data dictionary/variable list': ''}, 'Hawaii Line of Business': {'Division name': '', 'Line of Business': '', 'Division shortname, acronym': '', 'Department Agency short name, acronym': '', 'State of Hawaii Data Book Category': '', 'Department/Agency': ''}, 'Terms of Use Acknowledgement': {'I agree by uploading this dataset that it contains no private information, and adheres to the data.hawaii.gov terms of use.': 'yes'}}, 'availableDisplayTypes': ['table', 'fatrow', 'page'], 'renderTypeConfig': {'visible': {'table': True}}}, 'owner': {'id': 'a7h7-u2zq', 'displayName': 'Office of Elections', 'screenName': 'Office of Elections', 'type': 'interactive', 'userSegment': 'site_member'}, 'query': {}, 'rights': ['read'], 'tableAuthor': {'id': 'a7h7-u2zq', 'displayName': 'Office of Elections', 'screenName': 'Office of Elections', 'type': 'interactive', 'userSegment': 'site_member'}, 'flags': ['default', 'restorable', 'restorePossibleForType']}}\n"
     ]
    }
   ],
   "source": [
    "with open(\"as.json\",\"r\") as file:\n",
    "    d = json.load(file)\n",
    "    print(d[\"meta\"])"
   ]
  },
  {
   "cell_type": "code",
   "execution_count": 11,
   "metadata": {},
   "outputs": [
    {
     "name": "stdout",
     "output_type": "stream",
     "text": [
      "{\n",
      "  \"meta\" : {\n",
      "    \"view\" : {\n",
      "      \"id\" : \"qjpr-gyut\",\n",
      "      \"name\" : \"Election Maps - Statewide\",\n",
      "      \"averageRating\" : 0,\n",
      "      \"createdAt\" : 1425070498,\n",
      "      \"displayType\" : \"table\",\n",
      "      \"downloadCount\" : 1136,\n",
      "      \"hideFromCatalog\" : false,\n",
      "      \"hideFromDataJson\" : false,\n",
      "      \"indexUpdatedAt\" : 1529451695,\n",
      "      \"newBackend\" : true,\n",
      "      \"numberOfComments\" : 0,\n",
      "      \"oid\" : 29065788,\n",
      "      \"provenance\" : \"official\",\n",
      "      \"publicationAppendEnabled\" : false,\n",
      "      \"publicationDate\" : 1529451431,\n",
      "      \"publicationGroup\" : 2336445,\n",
      "      \"publicationStage\" : \"published\",\n",
      "      \"rowsUpdatedAt\" : 1529451309,\n",
      "      \"rowsUpdatedBy\" : \"a62c-hw4p\",\n",
      "      \"tableId\" : 15283714,\n",
      "      \"totalTimesRated\" : 0,\n",
      "      \"viewCount\" : 47054,\n",
      "      \"viewLastModified\" : 1536183707,\n",
      "      \"viewType\" : \"tabular\",\n",
      "      \"approvals\" : [ {\n",
      "        \"reviewedAt\" : 1529451431,\n",
      "        \"reviewedAutomatically\" : true,\n",
      "        \"state\" : \"approved\",\n",
      "        \"submissionId\" : 807772,\n",
      "        \"submissionObject\" : \"public_audience_request\",\n",
      "        \"submissionOutcome\" : \"change_audience\",\n",
      "        \"submittedAt\" : 1529451431,\n",
      "        \"workflowId\" : 2182,\n",
      "        \"submissionDetails\" : {\n",
      "          \"permissionType\" : \"READ\"\n",
      "        },\n",
      "        \"submissionOutcomeApplication\" : {\n",
      "          \"failureCount\" : 0,\n",
      "          \"status\" : \"success\"\n",
      "        },\n",
      "        \"submitter\" : {\n",
      "          \"id\" : \"a7h7-u2zq\",\n",
      "          \"displayName\" : \"Office of Elections\"\n",
      "        }\n",
      "      } ],\n",
      "      \"columns\" : [ {\n",
      "        \"id\" : -1,\n",
      "        \"name\" : \"sid\",\n",
      "        \"dataTypeName\" : \"meta_data\",\n",
      "        \"fieldName\" : \":sid\",\n",
      "        \"position\" : 0,\n",
      "        \"renderTypeName\" : \"meta_data\",\n",
      "        \"format\" : { },\n",
      "        \"flags\" : [ \"hidden\" ]\n",
      "      }, {\n",
      "        \"id\" : -1,\n",
      "        \"name\" : \"id\",\n",
      "        \"dataTypeName\" : \"meta_data\",\n",
      "        \"fieldName\" : \":id\",\n",
      "        \"position\" : 0,\n",
      "        \"renderTypeName\" : \"meta_data\",\n",
      "        \"format\" : { },\n",
      "        \"flags\" : [ \"hidden\" ]\n",
      "      }, {\n",
      "        \"id\" : -1,\n",
      "        \"name\" : \"position\",\n",
      "        \"dataTypeName\" : \"meta_data\",\n",
      "        \"fieldName\" : \":position\",\n",
      "        \"position\" : 0,\n",
      "        \"renderTypeName\" : \"meta_data\",\n",
      "        \"format\" : { },\n",
      "        \"flags\" : [ \"hidden\" ]\n",
      "      }, {\n",
      "        \"id\" : -1,\n",
      "        \"name\" : \"created_at\",\n",
      "        \"dataTypeName\" : \"meta_data\",\n",
      "        \"fieldName\" : \":created_at\",\n",
      "        \"position\" : 0,\n",
      "        \"renderTypeName\" : \"meta_data\",\n",
      "        \"format\" : { },\n",
      "        \"flags\" : [ \"hidden\" ]\n",
      "      }, {\n",
      "        \"id\" : -1,\n",
      "        \"name\" : \"created_meta\",\n",
      "        \"dataTypeName\" : \"meta_data\",\n",
      "        \"fieldName\" : \":created_meta\",\n",
      "        \"position\" : 0,\n",
      "        \"renderTypeName\" : \"meta_data\",\n",
      "        \"format\" : { },\n",
      "        \"flags\" : [ \"hidden\" ]\n",
      "      }, {\n",
      "        \"id\" : -1,\n",
      "        \"name\" : \"updated_at\",\n",
      "        \"dataTypeName\" : \"meta_data\",\n",
      "        \"fieldName\" : \":updated_at\",\n",
      "        \"position\" : 0,\n",
      "        \"renderTypeName\" : \"meta_data\",\n",
      "        \"format\" : { },\n",
      "        \"flags\" : [ \"hidden\" ]\n",
      "      }, {\n",
      "        \"id\" : -1,\n",
      "        \"name\" : \"updated_meta\",\n",
      "        \"dataTypeName\" : \"meta_data\",\n",
      "        \"fieldName\" : \":updated_meta\",\n",
      "        \"position\" : 0,\n",
      "        \"renderTypeName\" : \"meta_data\",\n",
      "        \"format\" : { },\n",
      "        \"flags\" : [ \"hidden\" ]\n",
      "      }, {\n",
      "        \"id\" : -1,\n",
      "        \"name\" : \"meta\",\n",
      "        \"dataTypeName\" : \"meta_data\",\n",
      "        \"fieldName\" : \":meta\",\n",
      "        \"position\" : 0,\n",
      "        \"renderTypeName\" : \"meta_data\",\n",
      "        \"format\" : { },\n",
      "        \"flags\" : [ \"hidden\" ]\n",
      "      }, {\n",
      "        \"id\" : 364001233,\n",
      "        \"name\" : \"Map Name\",\n",
      "        \"dataTypeName\" : \"url\",\n",
      "        \"description\" : \"Map Name\",\n",
      "        \"fieldName\" : \"map_name\",\n",
      "        \"position\" : 1,\n",
      "        \"renderTypeName\" : \"url\",\n",
      "        \"tableColumnId\" : 64948134,\n",
      "        \"width\" : 100,\n",
      "        \"cachedContents\" : {\n",
      "          \"largest\" : {\n",
      "            \"description\" : \"Oahu Map: Island view\",\n",
      "            \"url\" : \"http://files.hawaii.gov/elections/files/maps/electionmaps/ISLAND_OF_OAHU.pdf\"\n",
      "          },\n",
      "          \"non_null\" : 42,\n",
      "          \"null\" : 0,\n",
      "          \"top\" : [ {\n",
      "            \"item\" : {\n",
      "              \"description\" : \"Oahu #13: Kailua - Waimanalo\",\n",
      "              \"url\" : \"http://files.hawaii.gov/elections/files/maps/electionmaps/OAHU13.pdf\"\n",
      "            },\n",
      "            \"count\" : 20\n",
      "          } ],\n",
      "          \"smallest\" : {\n",
      "            \"description\" : \"Hawaii #10: Waimea\",\n",
      "            \"url\" : \"http://files.hawaii.gov/elections/files/maps/electionmaps/HAWAII10.pdf\"\n",
      "          }\n",
      "        },\n",
      "        \"format\" : {\n",
      "          \"align\" : \"left\"\n",
      "        },\n",
      "        \"subColumnTypes\" : [ \"url\", \"description\" ]\n",
      "      }, {\n",
      "        \"id\" : 364001234,\n",
      "        \"name\" : \"DESCRIPTION\",\n",
      "        \"dataTypeName\" : \"text\",\n",
      "        \"description\" : \"\",\n",
      "        \"fieldName\" : \"description\",\n",
      "        \"position\" : 2,\n",
      "        \"renderTypeName\" : \"text\",\n",
      "        \"tableColumnId\" : 25882575,\n",
      "        \"width\" : 232,\n",
      "        \"cachedContents\" : {\n",
      "          \"largest\" : \"Waipio - Kohala Mountain\",\n",
      "          \"non_null\" : 42,\n",
      "          \"null\" : 0,\n",
      "          \"top\" : [ {\n",
      "            \"item\" : \"Kailua - Waimanalo\",\n",
      "            \"count\" : 20\n",
      "          } ],\n",
      "          \"smallest\" : \"Aiea - Waipahu\"\n",
      "        },\n",
      "        \"format\" : {\n",
      "          \"align\" : \"left\"\n",
      "        }\n",
      "      } ],\n",
      "      \"disabledFeatureFlags\" : [ \"allow_comments\" ],\n",
      "      \"grants\" : [ {\n",
      "        \"inherited\" : false,\n",
      "        \"type\" : \"viewer\",\n",
      "        \"flags\" : [ \"public\" ]\n",
      "      } ],\n",
      "      \"metadata\" : {\n",
      "        \"jsonQuery\" : {\n",
      "          \"order\" : [ {\n",
      "            \"columnFieldName\" : \"county\",\n",
      "            \"ascending\" : true\n",
      "          } ]\n",
      "        },\n",
      "        \"custom_fields\" : {\n",
      "          \"Data Reference\" : {\n",
      "            \"Reference for Technical Information\" : \"\",\n",
      "            \"Frequency\" : \"\",\n",
      "            \"Date Updated\" : \"\",\n",
      "            \"Date Released\" : \"\",\n",
      "            \"Period of Coverage\" : \"\",\n",
      "            \"Unit of Analysis\" : \"\",\n",
      "            \"Data dictionary/variable list\" : \"\"\n",
      "          },\n",
      "          \"Hawaii Line of Business\" : {\n",
      "            \"Division name\" : \"\",\n",
      "            \"Line of Business\" : \"\",\n",
      "            \"Division shortname, acronym\" : \"\",\n",
      "            \"Department Agency short name, acronym\" : \"\",\n",
      "            \"State of Hawaii Data Book Category\" : \"\",\n",
      "            \"Department/Agency\" : \"\"\n",
      "          },\n",
      "          \"Terms of Use Acknowledgement\" : {\n",
      "            \"I agree by uploading this dataset that it contains no private information, and adheres to the data.hawaii.gov terms of use.\" : \"yes\"\n",
      "          }\n",
      "        },\n",
      "        \"availableDisplayTypes\" : [ \"table\", \"fatrow\", \"page\" ],\n",
      "        \"renderTypeConfig\" : {\n",
      "          \"visible\" : {\n",
      "            \"table\" : true\n",
      "          }\n",
      "        }\n",
      "      },\n",
      "      \"owner\" : {\n",
      "        \"id\" : \"a7h7-u2zq\",\n",
      "        \"displayName\" : \"Office of Elections\",\n",
      "        \"screenName\" : \"Office of Elections\",\n",
      "        \"type\" : \"interactive\",\n",
      "        \"userSegment\" : \"site_member\"\n",
      "      },\n",
      "      \"query\" : { },\n",
      "      \"rights\" : [ \"read\" ],\n",
      "      \"tableAuthor\" : {\n",
      "        \"id\" : \"a7h7-u2zq\",\n",
      "        \"displayName\" : \"Office of Elections\",\n",
      "        \"screenName\" : \"Office of Elections\",\n",
      "        \"type\" : \"interactive\",\n",
      "        \"userSegment\" : \"site_member\"\n",
      "      },\n",
      "      \"flags\" : [ \"default\", \"restorable\", \"restorePossibleForType\" ]\n",
      "    }\n",
      "  },\n",
      "  \"data\" : [ [ \"row-wxmc.vmyu.nrcw\", \"00000000-0000-0000-3C83-2AC853E0DCB5\", 0, 1555712403, null, 1555712403, null, \"{ }\", [ \"http://files.hawaii.gov/elections/files/maps/electionmaps/ISLAND_OF_HAWAII.pdf\", \"Hawaii Map: Island view\" ], \"Hawaii Island\" ]\n",
      ", [ \"row-schg_32m2~98rq\", \"00000000-0000-0000-D63D-5BE088979152\", 0, 1555712403, null, 1555712403, null, \"{ }\", [ \"http://files.hawaii.gov/elections/files/maps/electionmaps/HAWAII1.pdf\", \"Hawaii #1: Waipio - Kohala Mountain\" ], \"Waipio - Kohala Mountain\" ]\n",
      ", [ \"row-8maa.cnvd.r2fc\", \"00000000-0000-0000-D16F-D8676F9ED0F7\", 0, 1555712403, null, 1555712403, null, \"{ }\", [ \"http://files.hawaii.gov/elections/files/maps/electionmaps/HAWAII5.pdf\", \"Hawaii #5: Puna - Pahoa\" ], \"Puna - Pahoa\" ]\n",
      ", [ \"row-jiu4_pbba~9qww\", \"00000000-0000-0000-1BC0-7D34AB2F9854\", 0, 1555712403, null, 1555712403, null, \"{ }\", [ \"http://files.hawaii.gov/elections/files/maps/electionmaps/HAWAII7.pdf\", \"Hawaii #7: Kailua-Kona\" ], \"Kailua-Kona\" ]\n",
      ", [ \"row-uysp_j8xi~p2ts\", \"00000000-0000-0000-A049-B68245CA9986\", 0, 1555712403, null, 1555712403, null, \"{ }\", [ \"http://files.hawaii.gov/elections/files/maps/electionmaps/HAWAII10.pdf\", \"Hawaii #10: Waimea\" ], \"Waimea\" ]\n",
      ", [ \"row-cxzt.cipv~5bdf\", \"00000000-0000-0000-D112-4AFFE972D0FD\", 0, 1555712403, null, 1555712403, null, \"{ }\", [ \"http://files.hawaii.gov/elections/files/maps/electionmaps/HAWAII3.pdf\", \"Hawaii #3: Keaau\" ], \"Keaau\" ]\n",
      ", [ \"row-84ka.fudk_m5k8\", \"00000000-0000-0000-F63D-145F4D48CF5A\", 0, 1555712403, null, 1555712403, null, \"{ }\", [ \"http://files.hawaii.gov/elections/files/maps/electionmaps/HAWAII4.pdf\", \"Hawaii #4: Volcano - Glenwood\" ], \"Volcano - Glenwood\" ]\n",
      ", [ \"row-e3ux-eupz.tvwk\", \"00000000-0000-0000-23D5-E2BCA3D8EEEF\", 0, 1555712403, null, 1555712403, null, \"{ }\", [ \"http://files.hawaii.gov/elections/files/maps/electionmaps/HAWAII6.pdf\", \"Hawaii #6: Captain Cook - Honaunau\" ], \"Captain Cook - Honaunau\" ]\n",
      ", [ \"row-v7th~uxj3_82ua\", \"00000000-0000-0000-349C-1BE5C42AD84B\", 0, 1555712403, null, 1555712403, null, \"{ }\", [ \"http://files.hawaii.gov/elections/files/maps/electionmaps/HAWAII8.pdf\", \"Hawaii #8: Honokohau\" ], \"Honokohau\" ]\n",
      ", [ \"row-rvi4~5aag_p9if\", \"00000000-0000-0000-C2D3-AED35FA45752\", 0, 1555712403, null, 1555712403, null, \"{ }\", [ \"http://files.hawaii.gov/elections/files/maps/electionmaps/HAWAII9.pdf\", \"Hawaii #9: Kalaoa - Puunahulu\" ], \"Kalaoa - Puunahulu\" ]\n",
      ", [ \"row-zv3j~rw6k.4e8m\", \"00000000-0000-0000-662A-748E09245A8D\", 0, 1555712403, null, 1555712403, null, \"{ }\", [ \"http://files.hawaii.gov/elections/files/maps/electionmaps/ISLAND_OF_MAUI.pdf\", \"Maui Map: Island view\" ], \"Maui Island\" ]\n",
      ", [ \"row-hgbr_njss.cdrx\", \"00000000-0000-0000-A869-B8D950322874\", 0, 1555712403, null, 1555712403, null, \"{ }\", [ \"http://files.hawaii.gov/elections/files/maps/electionmaps/ISLAND_OF_LANAI.pdf\", \"Lanai Map: Island view\" ], \"Lanai Island\" ]\n",
      ", [ \"row-g3fb.4wfg_xi5a\", \"00000000-0000-0000-F774-E8F28E63A253\", 0, 1555712403, null, 1555712403, null, \"{ }\", [ \"http://files.hawaii.gov/elections/files/maps/electionmaps/ISLAND_OF_MOLOKAI.pdf\", \"Molokai Map: Island view\" ], \"Molokai Island\" ]\n",
      ", [ \"row-khhx.73dm.4e3x\", \"00000000-0000-0000-7495-58A1DE613328\", 0, 1555712403, null, 1555712403, null, \"{ }\", [ \"http://files.hawaii.gov/elections/files/maps/electionmaps/MAUI1.pdf\", \"Maui #1: Kahakuloa - Waiehu\" ], \"Kahakuloa - Waiehu\" ]\n",
      ", [ \"row-whnf.9de2.arwg\", \"00000000-0000-0000-33A3-90B3BCD2F9F1\", 0, 1555712403, null, 1555712403, null, \"{ }\", [ \"http://files.hawaii.gov/elections/files/maps/electionmaps/MAUI2.pdf\", \"Maui #2: Wailuku - Kahului\" ], \"Wailuku - Kahului\" ]\n",
      ", [ \"row-v4dh-ze2k_fita\", \"00000000-0000-0000-A9A0-D08440FAC100\", 0, 1555712403, null, 1555712403, null, \"{ }\", [ \"http://files.hawaii.gov/elections/files/maps/electionmaps/MAUI3.pdf\", \"Maui #3: Kapalua - Lahaina\" ], \"Kapalua - Lahaina\" ]\n",
      ", [ \"row-zd4r_vxhy~yudn\", \"00000000-0000-0000-24B1-376EDC35A16C\", 0, 1555712403, null, 1555712403, null, \"{ }\", [ \"http://files.hawaii.gov/elections/files/maps/electionmaps/MAUI4.pdf\", \"Maui #4: Olowalu - Kihei\" ], \"Olowalu - Kihei\" ]\n",
      ", [ \"row-ziay~itf5.jrp7\", \"00000000-0000-0000-6739-16DFBAA28510\", 0, 1555712403, null, 1555712403, null, \"{ }\", [ \"http://files.hawaii.gov/elections/files/maps/electionmaps/MAUI5.pdf\", \"Maui #5: Wailea\" ], \"Wailea\" ]\n",
      ", [ \"row-r9eu.cadq-kg4d\", \"00000000-0000-0000-A3FF-01EA1637BA01\", 0, 1555712403, null, 1555712403, null, \"{ }\", [ \"http://files.hawaii.gov/elections/files/maps/electionmaps/KAUAI_COUNTY.pdf\", \"Kauai Map: County view\" ], \"Kauai County\" ]\n",
      ", [ \"row-eiku_j6ez_f7s2\", \"00000000-0000-0000-A5AF-1A8017DF4CED\", 0, 1555712403, null, 1555712403, null, \"{ }\", [ \"http://files.hawaii.gov/elections/files/maps/electionmaps/KAUAI1.pdf\", \"Kauai #1: Hanalei\" ], \"Hanalei\" ]\n",
      ", [ \"row-rax5~5e28.4zgd\", \"00000000-0000-0000-D8CC-F9ADCF663DDA\", 0, 1555712403, null, 1555712403, null, \"{ }\", [ \"http://files.hawaii.gov/elections/files/maps/electionmaps/OAHU1.pdf\", \"Oahu #1: Makapuu Point - Wailupe\" ], \"Makapuu Point - Wailupe\" ]\n",
      ", [ \"row-5a7x.gfpx_feuw\", \"00000000-0000-0000-576D-1FDEF872D6B8\", 0, 1555712403, null, 1555712403, null, \"{ }\", [ \"http://files.hawaii.gov/elections/files/maps/electionmaps/OAHU10.pdf\", \"Oahu #10: Waimea - Laie\" ], \"Waimea - Laie\" ]\n",
      ", [ \"row-zbu3_q2sv~vuk5\", \"00000000-0000-0000-964E-1BD07BC77F0B\", 0, 1555712403, null, 1555712403, null, \"{ }\", [ \"http://files.hawaii.gov/elections/files/maps/electionmaps/MAUI6.pdf\", \"Maui #6: Makawao - Kula\" ], \"Makawao - Kula\" ]\n",
      ", [ \"row-m8na-6u8r_p4yg\", \"00000000-0000-0000-BBFB-2064B74F6FBC\", 0, 1555712403, null, 1555712403, null, \"{ }\", [ \"http://files.hawaii.gov/elections/files/maps/electionmaps/MAUI7.pdf\", \"Maui #7: Haiku\" ], \"Haiku\" ]\n",
      ", [ \"row-pqah-pssa~pyia\", \"00000000-0000-0000-52A4-0040FA5FE121\", 0, 1555712403, null, 1555712403, null, \"{ }\", [ \"http://files.hawaii.gov/elections/files/maps/electionmaps/HAWAII2.pdf\", \"Hawaii #2: Hilo\" ], \"Hilo\" ]\n",
      ", [ \"row-k7fv.wx3d_jtuc\", \"00000000-0000-0000-82FF-0DF20119B820\", 0, 1555712403, null, 1555712403, null, \"{ }\", [ \"http://files.hawaii.gov/elections/files/maps/electionmaps/KAUAI2.pdf\", \"Kauai #2: Kilauea - Anahola\" ], \"Kilauea - Anahola\" ]\n",
      ", [ \"row-ecyp~wzec_hs2a\", \"00000000-0000-0000-E64F-76EBDAF3B0B8\", 0, 1555712403, null, 1555712403, null, \"{ }\", [ \"http://files.hawaii.gov/elections/files/maps/electionmaps/KAUAI3.pdf\", \"Kauai #3: Kapaa\" ], \"Kapaa\" ]\n",
      ", [ \"row-8fmz-ugch_88jg\", \"00000000-0000-0000-AA00-31A5E0B3F0C4\", 0, 1555712403, null, 1555712403, null, \"{ }\", [ \"http://files.hawaii.gov/elections/files/maps/electionmaps/OAHU11.pdf\", \"Oahu #11: Waiahole - Hauula\" ], \"Waiahole - Hauula\" ]\n",
      ", [ \"row-aw7z_jth8_qxz6\", \"00000000-0000-0000-135F-F667C3E37D64\", 0, 1555712403, null, 1555712403, null, \"{ }\", [ \"http://files.hawaii.gov/elections/files/maps/electionmaps/OAHU13.pdf\", \"Oahu #13: Kailua - Waimanalo\" ], \"Kailua - Waimanalo\" ]\n",
      ", [ \"row-5bvu~a2z7.8dz5\", \"00000000-0000-0000-3C4F-E678567DD71E\", 0, 1555712403, null, 1555712403, null, \"{ }\", [ \"http://files.hawaii.gov/elections/files/maps/electionmaps/KAUAI4.pdf\", \"Kauai #4: Lihue\" ], \"Lihue\" ]\n",
      ", [ \"row-4umm_s2cw.t99u\", \"00000000-0000-0000-4326-6DBC52A4B7BE\", 0, 1555712403, null, 1555712403, null, \"{ }\", [ \"http://files.hawaii.gov/elections/files/maps/electionmaps/OAHU12.pdf\", \"Oahu #12: Kaneohe\" ], \"Kaneohe\" ]\n",
      ", [ \"row-3wda_uy4u.xsp7\", \"00000000-0000-0000-9E61-ADAAEAA433D9\", 0, 1555712403, null, 1555712403, null, \"{ }\", [ \"http://files.hawaii.gov/elections/files/maps/electionmaps/KAUAI5.pdf\", \"Kauai #5: Hanapepe - Koloa\" ], \"Hanapepe - Koloa\" ]\n",
      ", [ \"row-k63x.5vpz_ny3m\", \"00000000-0000-0000-7B98-C4BB54608A53\", 0, 1555712403, null, 1555712403, null, \"{ }\", [ \"http://files.hawaii.gov/elections/files/maps/electionmaps/KAUAI6.pdf\", \"Kauai #6: Kekaha - Waimea\" ], \"Kekaha - Waimea\" ]\n",
      ", [ \"row-mqh3_i2ae~g3wi\", \"00000000-0000-0000-ADA6-04222CDD2091\", 0, 1555712403, null, 1555712403, null, \"{ }\", [ \"http://files.hawaii.gov/elections/files/maps/electionmaps/ISLAND_OF_OAHU.pdf\", \"Oahu Map: Island view\" ], \"Oahu Island\" ]\n",
      ", [ \"row-5zxq_y4x4.8yk7\", \"00000000-0000-0000-094A-371631F3B372\", 0, 1555712403, null, 1555712403, null, \"{ }\", [ \"http://files.hawaii.gov/elections/files/maps/electionmaps/OAHU3.pdf\", \"Oahu #3: Punchbowl - Aliamanu\" ], \"Punchbowl - Aliamanu\" ]\n",
      ", [ \"row-v2kg~cxsc-89tz\", \"00000000-0000-0000-07EF-0075B6BF6972\", 0, 1555712403, null, 1555712403, null, \"{ }\", [ \"http://files.hawaii.gov/elections/files/maps/electionmaps/OAHU2.pdf\", \"Oahu #2: Waialae Iki - Makiki\" ], \"Waialae Iki - Makiki\" ]\n",
      ", [ \"row-g7d9_pafg-ju83\", \"00000000-0000-0000-8A45-5BF5C2559B23\", 0, 1555712403, null, 1555712403, null, \"{ }\", [ \"http://files.hawaii.gov/elections/files/maps/electionmaps/OAHU4.pdf\", \"Oahu #4: Aiea - Waipahu\" ], \"Aiea - Waipahu\" ]\n",
      ", [ \"row-npej_7n6h.s5gu\", \"00000000-0000-0000-1F78-579FFD8E8DA6\", 0, 1555712403, null, 1555712403, null, \"{ }\", [ \"http://files.hawaii.gov/elections/files/maps/electionmaps/OAHU5.pdf\", \"Oahu #5: Wahiawa - Mililani\" ], \"Wahiawa - Mililani\" ]\n",
      ", [ \"row-h8s2_8bbn~x27a\", \"00000000-0000-0000-0FA3-477B3200B707\", 0, 1555712403, null, 1555712403, null, \"{ }\", [ \"http://files.hawaii.gov/elections/files/maps/electionmaps/OAHU9.pdf\", \"Oahu #9: Mokuleia - Waimea\" ], \"Mokuleia - Waimea\" ]\n",
      ", [ \"row-xy7m.g6z9-a7ba\", \"00000000-0000-0000-94A9-0B9E491B7BE6\", 0, 1555712403, null, 1555712403, null, \"{ }\", [ \"http://files.hawaii.gov/elections/files/maps/electionmaps/OAHU6.pdf\", \"Oahu #6: Lower Pearl Harbor\" ], \"Lower Pearl Harbor\" ]\n",
      ", [ \"row-3h37.fwmi_22bi\", \"00000000-0000-0000-D874-76B39F426BE4\", 0, 1555712403, null, 1555712403, null, \"{ }\", [ \"http://files.hawaii.gov/elections/files/maps/electionmaps/OAHU7.pdf\", \"Oahu #7: Ewa Beach - Makakilo\" ], \"Ewa Beach - Makakilo\" ]\n",
      ", [ \"row-mcuf.f6w2_24ib\", \"00000000-0000-0000-63B7-AFEA9707AB00\", 0, 1555712403, null, 1555712403, null, \"{ }\", [ \"http://files.hawaii.gov/elections/files/maps/electionmaps/OAHU8.pdf\", \"Oahu #8: Nanakuli - Waianae\" ], \"Nanakuli - Waianae\" ]\n",
      " ]\n",
      "}\n",
      "{'meta': {'view': {'id': 'qjpr-gyut', 'name': 'Election Maps - Statewide', 'averageRating': 0, 'createdAt': 1425070498, 'displayType': 'table', 'downloadCount': 1136, 'hideFromCatalog': False, 'hideFromDataJson': False, 'indexUpdatedAt': 1529451695, 'newBackend': True, 'numberOfComments': 0, 'oid': 29065788, 'provenance': 'official', 'publicationAppendEnabled': False, 'publicationDate': 1529451431, 'publicationGroup': 2336445, 'publicationStage': 'published', 'rowsUpdatedAt': 1529451309, 'rowsUpdatedBy': 'a62c-hw4p', 'tableId': 15283714, 'totalTimesRated': 0, 'viewCount': 47054, 'viewLastModified': 1536183707, 'viewType': 'tabular', 'approvals': [{'reviewedAt': 1529451431, 'reviewedAutomatically': True, 'state': 'approved', 'submissionId': 807772, 'submissionObject': 'public_audience_request', 'submissionOutcome': 'change_audience', 'submittedAt': 1529451431, 'workflowId': 2182, 'submissionDetails': {'permissionType': 'READ'}, 'submissionOutcomeApplication': {'failureCount': 0, 'status': 'success'}, 'submitter': {'id': 'a7h7-u2zq', 'displayName': 'Office of Elections'}}], 'columns': [{'id': -1, 'name': 'sid', 'dataTypeName': 'meta_data', 'fieldName': ':sid', 'position': 0, 'renderTypeName': 'meta_data', 'format': {}, 'flags': ['hidden']}, {'id': -1, 'name': 'id', 'dataTypeName': 'meta_data', 'fieldName': ':id', 'position': 0, 'renderTypeName': 'meta_data', 'format': {}, 'flags': ['hidden']}, {'id': -1, 'name': 'position', 'dataTypeName': 'meta_data', 'fieldName': ':position', 'position': 0, 'renderTypeName': 'meta_data', 'format': {}, 'flags': ['hidden']}, {'id': -1, 'name': 'created_at', 'dataTypeName': 'meta_data', 'fieldName': ':created_at', 'position': 0, 'renderTypeName': 'meta_data', 'format': {}, 'flags': ['hidden']}, {'id': -1, 'name': 'created_meta', 'dataTypeName': 'meta_data', 'fieldName': ':created_meta', 'position': 0, 'renderTypeName': 'meta_data', 'format': {}, 'flags': ['hidden']}, {'id': -1, 'name': 'updated_at', 'dataTypeName': 'meta_data', 'fieldName': ':updated_at', 'position': 0, 'renderTypeName': 'meta_data', 'format': {}, 'flags': ['hidden']}, {'id': -1, 'name': 'updated_meta', 'dataTypeName': 'meta_data', 'fieldName': ':updated_meta', 'position': 0, 'renderTypeName': 'meta_data', 'format': {}, 'flags': ['hidden']}, {'id': -1, 'name': 'meta', 'dataTypeName': 'meta_data', 'fieldName': ':meta', 'position': 0, 'renderTypeName': 'meta_data', 'format': {}, 'flags': ['hidden']}, {'id': 364001233, 'name': 'Map Name', 'dataTypeName': 'url', 'description': 'Map Name', 'fieldName': 'map_name', 'position': 1, 'renderTypeName': 'url', 'tableColumnId': 64948134, 'width': 100, 'cachedContents': {'largest': {'description': 'Oahu Map: Island view', 'url': 'http://files.hawaii.gov/elections/files/maps/electionmaps/ISLAND_OF_OAHU.pdf'}, 'non_null': 42, 'null': 0, 'top': [{'item': {'description': 'Oahu #13: Kailua - Waimanalo', 'url': 'http://files.hawaii.gov/elections/files/maps/electionmaps/OAHU13.pdf'}, 'count': 20}], 'smallest': {'description': 'Hawaii #10: Waimea', 'url': 'http://files.hawaii.gov/elections/files/maps/electionmaps/HAWAII10.pdf'}}, 'format': {'align': 'left'}, 'subColumnTypes': ['url', 'description']}, {'id': 364001234, 'name': 'DESCRIPTION', 'dataTypeName': 'text', 'description': '', 'fieldName': 'description', 'position': 2, 'renderTypeName': 'text', 'tableColumnId': 25882575, 'width': 232, 'cachedContents': {'largest': 'Waipio - Kohala Mountain', 'non_null': 42, 'null': 0, 'top': [{'item': 'Kailua - Waimanalo', 'count': 20}], 'smallest': 'Aiea - Waipahu'}, 'format': {'align': 'left'}}], 'disabledFeatureFlags': ['allow_comments'], 'grants': [{'inherited': False, 'type': 'viewer', 'flags': ['public']}], 'metadata': {'jsonQuery': {'order': [{'columnFieldName': 'county', 'ascending': True}]}, 'custom_fields': {'Data Reference': {'Reference for Technical Information': '', 'Frequency': '', 'Date Updated': '', 'Date Released': '', 'Period of Coverage': '', 'Unit of Analysis': '', 'Data dictionary/variable list': ''}, 'Hawaii Line of Business': {'Division name': '', 'Line of Business': '', 'Division shortname, acronym': '', 'Department Agency short name, acronym': '', 'State of Hawaii Data Book Category': '', 'Department/Agency': ''}, 'Terms of Use Acknowledgement': {'I agree by uploading this dataset that it contains no private information, and adheres to the data.hawaii.gov terms of use.': 'yes'}}, 'availableDisplayTypes': ['table', 'fatrow', 'page'], 'renderTypeConfig': {'visible': {'table': True}}}, 'owner': {'id': 'a7h7-u2zq', 'displayName': 'Office of Elections', 'screenName': 'Office of Elections', 'type': 'interactive', 'userSegment': 'site_member'}, 'query': {}, 'rights': ['read'], 'tableAuthor': {'id': 'a7h7-u2zq', 'displayName': 'Office of Elections', 'screenName': 'Office of Elections', 'type': 'interactive', 'userSegment': 'site_member'}, 'flags': ['default', 'restorable', 'restorePossibleForType']}}, 'data': [['row-wxmc.vmyu.nrcw', '00000000-0000-0000-3C83-2AC853E0DCB5', 0, 1555712403, None, 1555712403, None, '{ }', ['http://files.hawaii.gov/elections/files/maps/electionmaps/ISLAND_OF_HAWAII.pdf', 'Hawaii Map: Island view'], 'Hawaii Island'], ['row-schg_32m2~98rq', '00000000-0000-0000-D63D-5BE088979152', 0, 1555712403, None, 1555712403, None, '{ }', ['http://files.hawaii.gov/elections/files/maps/electionmaps/HAWAII1.pdf', 'Hawaii #1: Waipio - Kohala Mountain'], 'Waipio - Kohala Mountain'], ['row-8maa.cnvd.r2fc', '00000000-0000-0000-D16F-D8676F9ED0F7', 0, 1555712403, None, 1555712403, None, '{ }', ['http://files.hawaii.gov/elections/files/maps/electionmaps/HAWAII5.pdf', 'Hawaii #5: Puna - Pahoa'], 'Puna - Pahoa'], ['row-jiu4_pbba~9qww', '00000000-0000-0000-1BC0-7D34AB2F9854', 0, 1555712403, None, 1555712403, None, '{ }', ['http://files.hawaii.gov/elections/files/maps/electionmaps/HAWAII7.pdf', 'Hawaii #7: Kailua-Kona'], 'Kailua-Kona'], ['row-uysp_j8xi~p2ts', '00000000-0000-0000-A049-B68245CA9986', 0, 1555712403, None, 1555712403, None, '{ }', ['http://files.hawaii.gov/elections/files/maps/electionmaps/HAWAII10.pdf', 'Hawaii #10: Waimea'], 'Waimea'], ['row-cxzt.cipv~5bdf', '00000000-0000-0000-D112-4AFFE972D0FD', 0, 1555712403, None, 1555712403, None, '{ }', ['http://files.hawaii.gov/elections/files/maps/electionmaps/HAWAII3.pdf', 'Hawaii #3: Keaau'], 'Keaau'], ['row-84ka.fudk_m5k8', '00000000-0000-0000-F63D-145F4D48CF5A', 0, 1555712403, None, 1555712403, None, '{ }', ['http://files.hawaii.gov/elections/files/maps/electionmaps/HAWAII4.pdf', 'Hawaii #4: Volcano - Glenwood'], 'Volcano - Glenwood'], ['row-e3ux-eupz.tvwk', '00000000-0000-0000-23D5-E2BCA3D8EEEF', 0, 1555712403, None, 1555712403, None, '{ }', ['http://files.hawaii.gov/elections/files/maps/electionmaps/HAWAII6.pdf', 'Hawaii #6: Captain Cook - Honaunau'], 'Captain Cook - Honaunau'], ['row-v7th~uxj3_82ua', '00000000-0000-0000-349C-1BE5C42AD84B', 0, 1555712403, None, 1555712403, None, '{ }', ['http://files.hawaii.gov/elections/files/maps/electionmaps/HAWAII8.pdf', 'Hawaii #8: Honokohau'], 'Honokohau'], ['row-rvi4~5aag_p9if', '00000000-0000-0000-C2D3-AED35FA45752', 0, 1555712403, None, 1555712403, None, '{ }', ['http://files.hawaii.gov/elections/files/maps/electionmaps/HAWAII9.pdf', 'Hawaii #9: Kalaoa - Puunahulu'], 'Kalaoa - Puunahulu'], ['row-zv3j~rw6k.4e8m', '00000000-0000-0000-662A-748E09245A8D', 0, 1555712403, None, 1555712403, None, '{ }', ['http://files.hawaii.gov/elections/files/maps/electionmaps/ISLAND_OF_MAUI.pdf', 'Maui Map: Island view'], 'Maui Island'], ['row-hgbr_njss.cdrx', '00000000-0000-0000-A869-B8D950322874', 0, 1555712403, None, 1555712403, None, '{ }', ['http://files.hawaii.gov/elections/files/maps/electionmaps/ISLAND_OF_LANAI.pdf', 'Lanai Map: Island view'], 'Lanai Island'], ['row-g3fb.4wfg_xi5a', '00000000-0000-0000-F774-E8F28E63A253', 0, 1555712403, None, 1555712403, None, '{ }', ['http://files.hawaii.gov/elections/files/maps/electionmaps/ISLAND_OF_MOLOKAI.pdf', 'Molokai Map: Island view'], 'Molokai Island'], ['row-khhx.73dm.4e3x', '00000000-0000-0000-7495-58A1DE613328', 0, 1555712403, None, 1555712403, None, '{ }', ['http://files.hawaii.gov/elections/files/maps/electionmaps/MAUI1.pdf', 'Maui #1: Kahakuloa - Waiehu'], 'Kahakuloa - Waiehu'], ['row-whnf.9de2.arwg', '00000000-0000-0000-33A3-90B3BCD2F9F1', 0, 1555712403, None, 1555712403, None, '{ }', ['http://files.hawaii.gov/elections/files/maps/electionmaps/MAUI2.pdf', 'Maui #2: Wailuku - Kahului'], 'Wailuku - Kahului'], ['row-v4dh-ze2k_fita', '00000000-0000-0000-A9A0-D08440FAC100', 0, 1555712403, None, 1555712403, None, '{ }', ['http://files.hawaii.gov/elections/files/maps/electionmaps/MAUI3.pdf', 'Maui #3: Kapalua - Lahaina'], 'Kapalua - Lahaina'], ['row-zd4r_vxhy~yudn', '00000000-0000-0000-24B1-376EDC35A16C', 0, 1555712403, None, 1555712403, None, '{ }', ['http://files.hawaii.gov/elections/files/maps/electionmaps/MAUI4.pdf', 'Maui #4: Olowalu - Kihei'], 'Olowalu - Kihei'], ['row-ziay~itf5.jrp7', '00000000-0000-0000-6739-16DFBAA28510', 0, 1555712403, None, 1555712403, None, '{ }', ['http://files.hawaii.gov/elections/files/maps/electionmaps/MAUI5.pdf', 'Maui #5: Wailea'], 'Wailea'], ['row-r9eu.cadq-kg4d', '00000000-0000-0000-A3FF-01EA1637BA01', 0, 1555712403, None, 1555712403, None, '{ }', ['http://files.hawaii.gov/elections/files/maps/electionmaps/KAUAI_COUNTY.pdf', 'Kauai Map: County view'], 'Kauai County'], ['row-eiku_j6ez_f7s2', '00000000-0000-0000-A5AF-1A8017DF4CED', 0, 1555712403, None, 1555712403, None, '{ }', ['http://files.hawaii.gov/elections/files/maps/electionmaps/KAUAI1.pdf', 'Kauai #1: Hanalei'], 'Hanalei'], ['row-rax5~5e28.4zgd', '00000000-0000-0000-D8CC-F9ADCF663DDA', 0, 1555712403, None, 1555712403, None, '{ }', ['http://files.hawaii.gov/elections/files/maps/electionmaps/OAHU1.pdf', 'Oahu #1: Makapuu Point - Wailupe'], 'Makapuu Point - Wailupe'], ['row-5a7x.gfpx_feuw', '00000000-0000-0000-576D-1FDEF872D6B8', 0, 1555712403, None, 1555712403, None, '{ }', ['http://files.hawaii.gov/elections/files/maps/electionmaps/OAHU10.pdf', 'Oahu #10: Waimea - Laie'], 'Waimea - Laie'], ['row-zbu3_q2sv~vuk5', '00000000-0000-0000-964E-1BD07BC77F0B', 0, 1555712403, None, 1555712403, None, '{ }', ['http://files.hawaii.gov/elections/files/maps/electionmaps/MAUI6.pdf', 'Maui #6: Makawao - Kula'], 'Makawao - Kula'], ['row-m8na-6u8r_p4yg', '00000000-0000-0000-BBFB-2064B74F6FBC', 0, 1555712403, None, 1555712403, None, '{ }', ['http://files.hawaii.gov/elections/files/maps/electionmaps/MAUI7.pdf', 'Maui #7: Haiku'], 'Haiku'], ['row-pqah-pssa~pyia', '00000000-0000-0000-52A4-0040FA5FE121', 0, 1555712403, None, 1555712403, None, '{ }', ['http://files.hawaii.gov/elections/files/maps/electionmaps/HAWAII2.pdf', 'Hawaii #2: Hilo'], 'Hilo'], ['row-k7fv.wx3d_jtuc', '00000000-0000-0000-82FF-0DF20119B820', 0, 1555712403, None, 1555712403, None, '{ }', ['http://files.hawaii.gov/elections/files/maps/electionmaps/KAUAI2.pdf', 'Kauai #2: Kilauea - Anahola'], 'Kilauea - Anahola'], ['row-ecyp~wzec_hs2a', '00000000-0000-0000-E64F-76EBDAF3B0B8', 0, 1555712403, None, 1555712403, None, '{ }', ['http://files.hawaii.gov/elections/files/maps/electionmaps/KAUAI3.pdf', 'Kauai #3: Kapaa'], 'Kapaa'], ['row-8fmz-ugch_88jg', '00000000-0000-0000-AA00-31A5E0B3F0C4', 0, 1555712403, None, 1555712403, None, '{ }', ['http://files.hawaii.gov/elections/files/maps/electionmaps/OAHU11.pdf', 'Oahu #11: Waiahole - Hauula'], 'Waiahole - Hauula'], ['row-aw7z_jth8_qxz6', '00000000-0000-0000-135F-F667C3E37D64', 0, 1555712403, None, 1555712403, None, '{ }', ['http://files.hawaii.gov/elections/files/maps/electionmaps/OAHU13.pdf', 'Oahu #13: Kailua - Waimanalo'], 'Kailua - Waimanalo'], ['row-5bvu~a2z7.8dz5', '00000000-0000-0000-3C4F-E678567DD71E', 0, 1555712403, None, 1555712403, None, '{ }', ['http://files.hawaii.gov/elections/files/maps/electionmaps/KAUAI4.pdf', 'Kauai #4: Lihue'], 'Lihue'], ['row-4umm_s2cw.t99u', '00000000-0000-0000-4326-6DBC52A4B7BE', 0, 1555712403, None, 1555712403, None, '{ }', ['http://files.hawaii.gov/elections/files/maps/electionmaps/OAHU12.pdf', 'Oahu #12: Kaneohe'], 'Kaneohe'], ['row-3wda_uy4u.xsp7', '00000000-0000-0000-9E61-ADAAEAA433D9', 0, 1555712403, None, 1555712403, None, '{ }', ['http://files.hawaii.gov/elections/files/maps/electionmaps/KAUAI5.pdf', 'Kauai #5: Hanapepe - Koloa'], 'Hanapepe - Koloa'], ['row-k63x.5vpz_ny3m', '00000000-0000-0000-7B98-C4BB54608A53', 0, 1555712403, None, 1555712403, None, '{ }', ['http://files.hawaii.gov/elections/files/maps/electionmaps/KAUAI6.pdf', 'Kauai #6: Kekaha - Waimea'], 'Kekaha - Waimea'], ['row-mqh3_i2ae~g3wi', '00000000-0000-0000-ADA6-04222CDD2091', 0, 1555712403, None, 1555712403, None, '{ }', ['http://files.hawaii.gov/elections/files/maps/electionmaps/ISLAND_OF_OAHU.pdf', 'Oahu Map: Island view'], 'Oahu Island'], ['row-5zxq_y4x4.8yk7', '00000000-0000-0000-094A-371631F3B372', 0, 1555712403, None, 1555712403, None, '{ }', ['http://files.hawaii.gov/elections/files/maps/electionmaps/OAHU3.pdf', 'Oahu #3: Punchbowl - Aliamanu'], 'Punchbowl - Aliamanu'], ['row-v2kg~cxsc-89tz', '00000000-0000-0000-07EF-0075B6BF6972', 0, 1555712403, None, 1555712403, None, '{ }', ['http://files.hawaii.gov/elections/files/maps/electionmaps/OAHU2.pdf', 'Oahu #2: Waialae Iki - Makiki'], 'Waialae Iki - Makiki'], ['row-g7d9_pafg-ju83', '00000000-0000-0000-8A45-5BF5C2559B23', 0, 1555712403, None, 1555712403, None, '{ }', ['http://files.hawaii.gov/elections/files/maps/electionmaps/OAHU4.pdf', 'Oahu #4: Aiea - Waipahu'], 'Aiea - Waipahu'], ['row-npej_7n6h.s5gu', '00000000-0000-0000-1F78-579FFD8E8DA6', 0, 1555712403, None, 1555712403, None, '{ }', ['http://files.hawaii.gov/elections/files/maps/electionmaps/OAHU5.pdf', 'Oahu #5: Wahiawa - Mililani'], 'Wahiawa - Mililani'], ['row-h8s2_8bbn~x27a', '00000000-0000-0000-0FA3-477B3200B707', 0, 1555712403, None, 1555712403, None, '{ }', ['http://files.hawaii.gov/elections/files/maps/electionmaps/OAHU9.pdf', 'Oahu #9: Mokuleia - Waimea'], 'Mokuleia - Waimea'], ['row-xy7m.g6z9-a7ba', '00000000-0000-0000-94A9-0B9E491B7BE6', 0, 1555712403, None, 1555712403, None, '{ }', ['http://files.hawaii.gov/elections/files/maps/electionmaps/OAHU6.pdf', 'Oahu #6: Lower Pearl Harbor'], 'Lower Pearl Harbor'], ['row-3h37.fwmi_22bi', '00000000-0000-0000-D874-76B39F426BE4', 0, 1555712403, None, 1555712403, None, '{ }', ['http://files.hawaii.gov/elections/files/maps/electionmaps/OAHU7.pdf', 'Oahu #7: Ewa Beach - Makakilo'], 'Ewa Beach - Makakilo'], ['row-mcuf.f6w2_24ib', '00000000-0000-0000-63B7-AFEA9707AB00', 0, 1555712403, None, 1555712403, None, '{ }', ['http://files.hawaii.gov/elections/files/maps/electionmaps/OAHU8.pdf', 'Oahu #8: Nanakuli - Waianae'], 'Nanakuli - Waianae']]}\n"
     ]
    }
   ],
   "source": [
    "with open(\"as.json\",\"r\") as file:\n",
    "    data = file.read()\n",
    "    print(data)\n",
    "    \n",
    "    d = json.loads(data)\n",
    "    print(d)"
   ]
  },
  {
   "cell_type": "code",
   "execution_count": 13,
   "metadata": {},
   "outputs": [],
   "source": [
    "string = json.dumps(d)"
   ]
  },
  {
   "cell_type": "code",
   "execution_count": 15,
   "metadata": {},
   "outputs": [
    {
     "name": "stdout",
     "output_type": "stream",
     "text": [
      "<class 'str'>\n"
     ]
    }
   ],
   "source": [
    "print(type(string))"
   ]
  },
  {
   "cell_type": "code",
   "execution_count": 16,
   "metadata": {},
   "outputs": [],
   "source": [
    "with open(\"data2.json\",\"w\") as file:\n",
    "    json.dump(d,file)"
   ]
  },
  {
   "cell_type": "code",
   "execution_count": 17,
   "metadata": {},
   "outputs": [],
   "source": [
    "### Errors and Exceptions \n",
    "# Exceptions: Errors detected during execution are called exceptions are not \n",
    "#try \n",
    "#Except\n",
    "\n",
    "def div(a,b):\n",
    "    try:\n",
    "        print(a/b)\n",
    "        \n",
    "    except:\n",
    "        print(\"error !\")\n",
    "    print(\"hello\")\n"
   ]
  },
  {
   "cell_type": "code",
   "execution_count": 18,
   "metadata": {},
   "outputs": [
    {
     "ename": "ZeroDivisionError",
     "evalue": "division by zero",
     "output_type": "error",
     "traceback": [
      "\u001b[1;31m---------------------------------------------------------------------------\u001b[0m",
      "\u001b[1;31mZeroDivisionError\u001b[0m                         Traceback (most recent call last)",
      "\u001b[1;32m<ipython-input-18-fe01563e1bc6>\u001b[0m in \u001b[0;36m<module>\u001b[1;34m\u001b[0m\n\u001b[1;32m----> 1\u001b[1;33m \u001b[0mprint\u001b[0m\u001b[1;33m(\u001b[0m\u001b[1;36m10\u001b[0m\u001b[1;33m/\u001b[0m\u001b[1;36m0\u001b[0m\u001b[1;33m)\u001b[0m\u001b[1;33m\u001b[0m\u001b[1;33m\u001b[0m\u001b[0m\n\u001b[0m",
      "\u001b[1;31mZeroDivisionError\u001b[0m: division by zero"
     ]
    }
   ],
   "source": [
    "print(10/0)"
   ]
  },
  {
   "cell_type": "markdown",
   "metadata": {},
   "source": [
    "#### Create Custom Exceptions"
   ]
  },
  {
   "cell_type": "code",
   "execution_count": 19,
   "metadata": {},
   "outputs": [
    {
     "name": "stdout",
     "output_type": "stream",
     "text": [
      "trying to divide by zero\n"
     ]
    }
   ],
   "source": [
    "try:\n",
    "    print(10/0)\n",
    "except ZeroDivisionError:\n",
    "    print(\"trying to divide by zero\")"
   ]
  },
  {
   "cell_type": "code",
   "execution_count": 23,
   "metadata": {},
   "outputs": [
    {
     "name": "stdout",
     "output_type": "stream",
     "text": [
      "<class 'ZeroDivisionError'>\n"
     ]
    }
   ],
   "source": [
    "try:\n",
    "    print(10/0)\n",
    "except Exception as e:\n",
    "    print(type(e))"
   ]
  },
  {
   "cell_type": "code",
   "execution_count": 25,
   "metadata": {},
   "outputs": [
    {
     "name": "stdout",
     "output_type": "stream",
     "text": [
      "('Custom Error', 1, 2)\n"
     ]
    }
   ],
   "source": [
    "try:\n",
    "    raise Exception(\"Custom Error\",1,2)\n",
    "except Exception as e:\n",
    "    print(e)"
   ]
  },
  {
   "cell_type": "code",
   "execution_count": 33,
   "metadata": {},
   "outputs": [],
   "source": [
    "class Myexception(Exception):\n",
    "    def __init__(self,message):\n",
    "        self.message = message\n",
    "    \n",
    "    def __str__(self):\n",
    "        return self.message\n",
    "    "
   ]
  },
  {
   "cell_type": "code",
   "execution_count": 34,
   "metadata": {},
   "outputs": [
    {
     "name": "stdout",
     "output_type": "stream",
     "text": [
      "Error displayed\n"
     ]
    }
   ],
   "source": [
    "try:\n",
    "    raise Myexception(\"Error displayed\")\n",
    "except Exception as e:\n",
    "    print(e.message)"
   ]
  },
  {
   "cell_type": "markdown",
   "metadata": {},
   "source": [
    "- else : will always execute in the try block didn't threw any error \n",
    "- finally: will always execute"
   ]
  },
  {
   "cell_type": "code",
   "execution_count": 35,
   "metadata": {},
   "outputs": [
    {
     "name": "stdout",
     "output_type": "stream",
     "text": [
      "hello world\n",
      "ooh\n",
      "wrapping up\n"
     ]
    }
   ],
   "source": [
    "try:\n",
    "    print(\"hello world\")\n",
    "except:\n",
    "    print(\"ok error occured\")\n",
    "else:\n",
    "    print(\"ooh\")\n",
    "finally:\n",
    "    print(\"wrapping up\")"
   ]
  },
  {
   "cell_type": "markdown",
   "metadata": {},
   "source": [
    "- with statement is used when we have pre defined cleanup action "
   ]
  },
  {
   "cell_type": "code",
   "execution_count": 38,
   "metadata": {},
   "outputs": [
    {
     "name": "stdout",
     "output_type": "stream",
     "text": [
      "heyaaa Parassss\n"
     ]
    }
   ],
   "source": [
    "try:\n",
    "    file = open(\"a.txt\",\"r\")\n",
    "    print(file.read())\n",
    "except Exception as e:\n",
    "    print(e)\n",
    "finally:\n",
    "    file.close()"
   ]
  },
  {
   "cell_type": "code",
   "execution_count": null,
   "metadata": {},
   "outputs": [],
   "source": []
  }
 ],
 "metadata": {
  "kernelspec": {
   "display_name": "Python 3",
   "language": "python",
   "name": "python3"
  },
  "language_info": {
   "codemirror_mode": {
    "name": "ipython",
    "version": 3
   },
   "file_extension": ".py",
   "mimetype": "text/x-python",
   "name": "python",
   "nbconvert_exporter": "python",
   "pygments_lexer": "ipython3",
   "version": "3.8.5"
  }
 },
 "nbformat": 4,
 "nbformat_minor": 4
}
