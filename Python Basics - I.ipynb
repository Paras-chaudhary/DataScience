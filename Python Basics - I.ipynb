{
 "cells": [
  {
   "cell_type": "code",
   "execution_count": 2,
   "metadata": {},
   "outputs": [
    {
     "name": "stdout",
     "output_type": "stream",
     "text": [
      "HELLO WORLD\n"
     ]
    }
   ],
   "source": [
    "print(\"HELLO WORLD\")\n",
    "\n",
    "#Hello World Program "
   ]
  },
  {
   "cell_type": "code",
   "execution_count": 6,
   "metadata": {},
   "outputs": [
    {
     "data": {
      "text/plain": [
       "'This is also not a comment'"
      ]
     },
     "execution_count": 6,
     "metadata": {},
     "output_type": "execute_result"
    }
   ],
   "source": [
    "#Putting Comments \n",
    "#This is a comment \n",
    "''' This is not a comment'''\n",
    "\"\"\"This is also not a comment\"\"\""
   ]
  },
  {
   "cell_type": "markdown",
   "metadata": {},
   "source": [
    "##Literal Constants\n",
    "- Numbers\n",
    "- Integers\n",
    "- Floats\n",
    "- strings\n",
    "- Complex\n",
    "- single quotes\n",
    "- Double quotes\n",
    "- Tripple quotes\n",
    "- Escape sequences(\\n,\\t,\\r)\n",
    "- Explicit line joining "
   ]
  },
  {
   "cell_type": "code",
   "execution_count": 7,
   "metadata": {},
   "outputs": [
    {
     "data": {
      "text/plain": [
       "int"
      ]
     },
     "execution_count": 7,
     "metadata": {},
     "output_type": "execute_result"
    }
   ],
   "source": [
    "a = 5\n",
    "type(a)"
   ]
  },
  {
   "cell_type": "code",
   "execution_count": 8,
   "metadata": {},
   "outputs": [
    {
     "data": {
      "text/plain": [
       "complex"
      ]
     },
     "execution_count": 8,
     "metadata": {},
     "output_type": "execute_result"
    }
   ],
   "source": [
    "a = 1+5j\n",
    "type(a)"
   ]
  },
  {
   "cell_type": "code",
   "execution_count": 9,
   "metadata": {},
   "outputs": [
    {
     "data": {
      "text/plain": [
       "float"
      ]
     },
     "execution_count": 9,
     "metadata": {},
     "output_type": "execute_result"
    }
   ],
   "source": [
    "a = 5.6\n",
    "type(a)"
   ]
  },
  {
   "cell_type": "code",
   "execution_count": 15,
   "metadata": {},
   "outputs": [
    {
     "name": "stdout",
     "output_type": "stream",
     "text": [
      "Paras Chaudhary Loves Python\n"
     ]
    },
    {
     "data": {
      "text/plain": [
       "str"
      ]
     },
     "execution_count": 15,
     "metadata": {},
     "output_type": "execute_result"
    }
   ],
   "source": [
    "a = \"Paras Chaudhary Loves Python\"\n",
    "print(a)\n",
    "type(a)"
   ]
  },
  {
   "cell_type": "markdown",
   "metadata": {},
   "source": [
    "###  variables\n",
    "A type of identifier \n",
    "Rules for naming identifiers:\n",
    "- The first character of the identifier must be a letter of the alphabet(uppercase ASCII or lowecase ASCII or Unicode character)or an underscore(_)\n",
    "- The rest of the identifier name can consist of letters(uppercase ASCII or lowercase ASCII or Unicode character),underscores(_) or digits(0-9)\n",
    "- identifiers names are case sestitive for example myname and myName are not the same.Note the lowercase n in the former and the uppercase N in the latter.\n",
    "\n",
    "- Examples of valid identifier names are i , name_2_3.\n",
    "- Examples of invalid identifiers names are 2 things , this is spaced out , my-name and     >a1b2_c3"
   ]
  },
  {
   "cell_type": "markdown",
   "metadata": {},
   "source": [
    "### Arthematic Operators(+,-,,*,/,//,%)"
   ]
  },
  {
   "cell_type": "code",
   "execution_count": 21,
   "metadata": {},
   "outputs": [
    {
     "name": "stdout",
     "output_type": "stream",
     "text": [
      "30\n",
      "-10\n",
      "0\n",
      "0.5\n",
      "100000000000000000000\n",
      "0\n"
     ]
    }
   ],
   "source": [
    "a = 10\n",
    "b = 20\n",
    "print(a+b)\n",
    "print(a-b)\n",
    "print(a//b)# will not give the floating number \n",
    "print(a/b)# give the floating number\n",
    "print(a**b)#Powers\n",
    "print(b%a)#modulo"
   ]
  },
  {
   "cell_type": "code",
   "execution_count": 23,
   "metadata": {},
   "outputs": [
    {
     "name": "stdout",
     "output_type": "stream",
     "text": [
      "10 20 30.4\n"
     ]
    }
   ],
   "source": [
    "#Mullti variable assignment \n",
    "a,b,c = 10,20,30.40\n",
    "print(a,b,c)"
   ]
  },
  {
   "cell_type": "markdown",
   "metadata": {},
   "source": [
    "### Control Flow Statements"
   ]
  },
  {
   "cell_type": "code",
   "execution_count": 24,
   "metadata": {},
   "outputs": [
    {
     "name": "stdout",
     "output_type": "stream",
     "text": [
      "negative\n"
     ]
    }
   ],
   "source": [
    "#1. Conditional Statements \n",
    "\n",
    "a = -10\n",
    "if a>0:\n",
    "    print(\"Positive\")\n",
    "else:\n",
    "    print(\"negative\")"
   ]
  },
  {
   "cell_type": "code",
   "execution_count": 26,
   "metadata": {},
   "outputs": [],
   "source": [
    " # write a python program to input an integer from user and print:\n",
    "    # -1 integer is negative \n",
    "    # 0 integer is zero\n",
    "    # 1 integer is positive "
   ]
  },
  {
   "cell_type": "code",
   "execution_count": 32,
   "metadata": {},
   "outputs": [
    {
     "ename": "SyntaxError",
     "evalue": "invalid syntax (<ipython-input-32-777a32b95208>, line 8)",
     "output_type": "error",
     "traceback": [
      "\u001b[1;36m  File \u001b[1;32m\"<ipython-input-32-777a32b95208>\"\u001b[1;36m, line \u001b[1;32m8\u001b[0m\n\u001b[1;33m    else x>0:\u001b[0m\n\u001b[1;37m         ^\u001b[0m\n\u001b[1;31mSyntaxError\u001b[0m\u001b[1;31m:\u001b[0m invalid syntax\n"
     ]
    }
   ],
   "source": [
    "if x<0:\n",
    "    print(\"Negative\")\n",
    "elif x==0:\n",
    "    print(\"ZERO\")\n",
    "    \n",
    "else x>0:\n",
    "    print(\"Positive\")"
   ]
  },
  {
   "cell_type": "markdown",
   "metadata": {},
   "source": [
    "### Operators and Expressions \n",
    "- Combination of Operators and Operands "
   ]
  },
  {
   "cell_type": "markdown",
   "metadata": {},
   "source": [
    "### 1. Arithematic Operators \n",
    "+ ->Addition\n",
    "- ->Subtraction\n",
    "/ ->division\n",
    "% ->mod\n",
    "* ->multiplication\n",
    "// ->floor division\n",
    "** ->to the power of\n",
    "\n",
    "\n",
    "\n",
    "\n",
    "### 2.Comparison Operators \n",
    "== -> True,if it is equal\n",
    "!= ->True,if not equal to\n",
    "< ->less than \n",
    "> ->greater than \n",
    "<= ->less than or equal to \n",
    ">= ->greater than or equal to \n",
    "\n",
    "\n",
    "### 3.Assignment Operators\n",
    "=  ->  \n",
    "+= ->\n",
    "-= ->\n",
    "*= ->\n",
    "/= ->\n",
    "%= ->\n",
    "**= ->\n",
    "\n",
    "### 4.Logicak Operators\n",
    "not\n",
    "and \n",
    "or \n",
    "\n",
    "depends on boolean values \n",
    " "
   ]
  },
  {
   "cell_type": "code",
   "execution_count": 33,
   "metadata": {},
   "outputs": [],
   "source": [
    "#Write a python program to calculate the area of rectangle \n",
    "#l*b*h\n",
    "l = 10\n",
    "b = 20 \n",
    "h = 30\n",
    "\n",
    "area = l*b*h"
   ]
  },
  {
   "cell_type": "code",
   "execution_count": 34,
   "metadata": {},
   "outputs": [
    {
     "data": {
      "text/plain": [
       "6000"
      ]
     },
     "execution_count": 34,
     "metadata": {},
     "output_type": "execute_result"
    }
   ],
   "source": [
    "area"
   ]
  },
  {
   "cell_type": "code",
   "execution_count": null,
   "metadata": {},
   "outputs": [],
   "source": []
  }
 ],
 "metadata": {
  "kernelspec": {
   "display_name": "Python 3",
   "language": "python",
   "name": "python3"
  },
  "language_info": {
   "codemirror_mode": {
    "name": "ipython",
    "version": 3
   },
   "file_extension": ".py",
   "mimetype": "text/x-python",
   "name": "python",
   "nbconvert_exporter": "python",
   "pygments_lexer": "ipython3",
   "version": "3.8.5"
  }
 },
 "nbformat": 4,
 "nbformat_minor": 4
}
